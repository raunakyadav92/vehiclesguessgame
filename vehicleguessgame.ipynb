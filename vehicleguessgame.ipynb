{
  "nbformat": 4,
  "nbformat_minor": 0,
  "metadata": {
    "colab": {
      "provenance": [],
      "authorship_tag": "ABX9TyMsAl/1xjTbRfGiclP6scNH",
      "include_colab_link": true
    },
    "kernelspec": {
      "name": "python3",
      "display_name": "Python 3"
    },
    "language_info": {
      "name": "python"
    }
  },
  "cells": [
    {
      "cell_type": "markdown",
      "metadata": {
        "id": "view-in-github",
        "colab_type": "text"
      },
      "source": [
        "<a href=\"https://colab.research.google.com/github/raunakyadav92/vehiclesguessgame/blob/main/vehicleguessgame.ipynb\" target=\"_parent\"><img src=\"https://colab.research.google.com/assets/colab-badge.svg\" alt=\"Open In Colab\"/></a>"
      ]
    },
    {
      "cell_type": "code",
      "execution_count": null,
      "metadata": {
        "id": "xoYm-tL2Oqvx"
      },
      "outputs": [],
      "source": [
        "import random\n",
        "\n",
        "vehicles = {\n",
        "    \"I have two wheels and run on petrol. 🛵\": \"Scooter\",\n",
        "    \"I carry many passengers on roads. 🚌\": \"Bus\",\n",
        "    \"I run on tracks and carry passengers. 🚆\": \"Train\",\n",
        "    \"I can fly in the sky. ✈️\": \"Airplane\",\n",
        "    \"I carry goods on highways. 🚛\": \"Truck\",\n",
        "    \"I sail on water. 🚢\": \"Ship\",\n",
        "    \"I have four wheels and can be driven. 🚗\": \"Car\",\n",
        "    \"I take you across a river with oars. 🛶\": \"Boat\",\n",
        "    \"I have two wheels and powered by paddling. 🚴\": \"Bicycle\",\n",
        "    \"I am an emergency vehicle with a siren. 🚑\": \"Ambulance\"\n",
        "}\n",
        "\n",
        "questions = list(vehicles.keys())\n",
        "score = 0\n",
        "\n",
        "print(\"🚗 Welcome to Guess the Vehicle Game! 🚕\\n\")\n",
        "\n",
        "for i in range(5):\n",
        "    question = random.choice(questions)\n",
        "    print(f\"Q{i+1}: {question}\")\n",
        "    answer = input(\"Your Answer: \").strip().lower()\n",
        "\n",
        "    if answer == vehicles[question].lower():\n",
        "        print(\"✅ Correct!\\n\")\n",
        "        score += 1\n",
        "    else:\n",
        "        print(f\"❌ Wrong! The correct answer was: {vehicles[question]}\\n\")\n",
        "\n",
        "print(f\"🎯 Your Final Score: {score}/5\")\n"
      ]
    }
  ]
}